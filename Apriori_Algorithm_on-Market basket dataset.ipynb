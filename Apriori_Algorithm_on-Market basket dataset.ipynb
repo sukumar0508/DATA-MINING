{
 "cells": [
  {
   "cell_type": "code",
   "execution_count": 13,
   "id": "54e025c3",
   "metadata": {},
   "outputs": [
    {
     "data": {
      "text/plain": [
       "[['Bread', 'Milk'],\n",
       " ['Bread', 'Diapers', 'Beer', 'Eggs'],\n",
       " ['Milk', 'Diapers', 'Beer', 'Cola'],\n",
       " ['Bread', 'Milk', 'Diapers', 'Beer'],\n",
       " ['Bread', 'Milk', 'Diapers', 'cola']]"
      ]
     },
     "execution_count": 13,
     "metadata": {},
     "output_type": "execute_result"
    }
   ],
   "source": [
    "import pandas as pd\n",
    "import numpy as np\n",
    "items=[['Bread','Milk'],\n",
    "      ['Bread','Diapers','Beer','Eggs'],\n",
    "      ['Milk','Diapers','Beer','Cola'],\n",
    "      ['Bread','Milk','Diapers','Beer'],\n",
    "      ['Bread','Milk','Diapers','cola']]\n",
    "items"
   ]
  },
  {
   "cell_type": "code",
   "execution_count": 16,
   "id": "18b7dc14",
   "metadata": {},
   "outputs": [
    {
     "name": "stdout",
     "output_type": "stream",
     "text": [
      "Collecting apyori\n",
      "  Downloading apyori-1.1.2.tar.gz (8.6 kB)\n",
      "  Preparing metadata (setup.py): started\n",
      "  Preparing metadata (setup.py): finished with status 'done'\n",
      "Building wheels for collected packages: apyori\n",
      "  Building wheel for apyori (setup.py): started\n",
      "  Building wheel for apyori (setup.py): finished with status 'done'\n",
      "  Created wheel for apyori: filename=apyori-1.1.2-py3-none-any.whl size=5955 sha256=066489c07f692dd4b9081e4773cbbc18cf987e148792349dd457c01f2a6da817\n",
      "  Stored in directory: c:\\users\\shash\\appdata\\local\\pip\\cache\\wheels\\32\\2a\\54\\10c595515f385f3726642b10c60bf788029e8f3a1323e3913a\n",
      "Successfully built apyori\n",
      "Installing collected packages: apyori\n",
      "Successfully installed apyori-1.1.2\n"
     ]
    }
   ],
   "source": [
    "! pip install apyori"
   ]
  },
  {
   "cell_type": "code",
   "execution_count": 17,
   "id": "59e1f7a7",
   "metadata": {
    "scrolled": true
   },
   "outputs": [],
   "source": [
    "from apyori import apriori\n"
   ]
  },
  {
   "cell_type": "code",
   "execution_count": 18,
   "id": "71db0e29",
   "metadata": {},
   "outputs": [],
   "source": [
    "association_rules=apriori(items,min_support=0.2,min_confidence=0.7,min_length=4)\n",
    "association_result=list(association_rules)\n"
   ]
  },
  {
   "cell_type": "code",
   "execution_count": 19,
   "id": "a5375c04",
   "metadata": {},
   "outputs": [
    {
     "name": "stdout",
     "output_type": "stream",
     "text": [
      "31\n"
     ]
    }
   ],
   "source": [
    "print(len(association_result))"
   ]
  },
  {
   "cell_type": "code",
   "execution_count": 20,
   "id": "70c077bd",
   "metadata": {},
   "outputs": [
    {
     "data": {
      "text/plain": [
       "[RelationRecord(items=frozenset({'Bread'}), support=0.8, ordered_statistics=[OrderedStatistic(items_base=frozenset(), items_add=frozenset({'Bread'}), confidence=0.8, lift=1.0)]),\n",
       " RelationRecord(items=frozenset({'Diapers'}), support=0.8, ordered_statistics=[OrderedStatistic(items_base=frozenset(), items_add=frozenset({'Diapers'}), confidence=0.8, lift=1.0)]),\n",
       " RelationRecord(items=frozenset({'Milk'}), support=0.8, ordered_statistics=[OrderedStatistic(items_base=frozenset(), items_add=frozenset({'Milk'}), confidence=0.8, lift=1.0)]),\n",
       " RelationRecord(items=frozenset({'Beer', 'Cola'}), support=0.2, ordered_statistics=[OrderedStatistic(items_base=frozenset({'Cola'}), items_add=frozenset({'Beer'}), confidence=1.0, lift=1.6666666666666667)]),\n",
       " RelationRecord(items=frozenset({'Diapers', 'Beer'}), support=0.6, ordered_statistics=[OrderedStatistic(items_base=frozenset({'Beer'}), items_add=frozenset({'Diapers'}), confidence=1.0, lift=1.25), OrderedStatistic(items_base=frozenset({'Diapers'}), items_add=frozenset({'Beer'}), confidence=0.7499999999999999, lift=1.2499999999999998)]),\n",
       " RelationRecord(items=frozenset({'Eggs', 'Beer'}), support=0.2, ordered_statistics=[OrderedStatistic(items_base=frozenset({'Eggs'}), items_add=frozenset({'Beer'}), confidence=1.0, lift=1.6666666666666667)]),\n",
       " RelationRecord(items=frozenset({'Diapers', 'Bread'}), support=0.6, ordered_statistics=[OrderedStatistic(items_base=frozenset({'Bread'}), items_add=frozenset({'Diapers'}), confidence=0.7499999999999999, lift=0.9374999999999998), OrderedStatistic(items_base=frozenset({'Diapers'}), items_add=frozenset({'Bread'}), confidence=0.7499999999999999, lift=0.9374999999999998)]),\n",
       " RelationRecord(items=frozenset({'Eggs', 'Bread'}), support=0.2, ordered_statistics=[OrderedStatistic(items_base=frozenset({'Eggs'}), items_add=frozenset({'Bread'}), confidence=1.0, lift=1.25)]),\n",
       " RelationRecord(items=frozenset({'Bread', 'Milk'}), support=0.6, ordered_statistics=[OrderedStatistic(items_base=frozenset({'Bread'}), items_add=frozenset({'Milk'}), confidence=0.7499999999999999, lift=0.9374999999999998), OrderedStatistic(items_base=frozenset({'Milk'}), items_add=frozenset({'Bread'}), confidence=0.7499999999999999, lift=0.9374999999999998)]),\n",
       " RelationRecord(items=frozenset({'cola', 'Bread'}), support=0.2, ordered_statistics=[OrderedStatistic(items_base=frozenset({'cola'}), items_add=frozenset({'Bread'}), confidence=1.0, lift=1.25)]),\n",
       " RelationRecord(items=frozenset({'Diapers', 'Cola'}), support=0.2, ordered_statistics=[OrderedStatistic(items_base=frozenset({'Cola'}), items_add=frozenset({'Diapers'}), confidence=1.0, lift=1.25)]),\n",
       " RelationRecord(items=frozenset({'Milk', 'Cola'}), support=0.2, ordered_statistics=[OrderedStatistic(items_base=frozenset({'Cola'}), items_add=frozenset({'Milk'}), confidence=1.0, lift=1.25)]),\n",
       " RelationRecord(items=frozenset({'Eggs', 'Diapers'}), support=0.2, ordered_statistics=[OrderedStatistic(items_base=frozenset({'Eggs'}), items_add=frozenset({'Diapers'}), confidence=1.0, lift=1.25)]),\n",
       " RelationRecord(items=frozenset({'Diapers', 'Milk'}), support=0.6, ordered_statistics=[OrderedStatistic(items_base=frozenset({'Diapers'}), items_add=frozenset({'Milk'}), confidence=0.7499999999999999, lift=0.9374999999999998), OrderedStatistic(items_base=frozenset({'Milk'}), items_add=frozenset({'Diapers'}), confidence=0.7499999999999999, lift=0.9374999999999998)]),\n",
       " RelationRecord(items=frozenset({'cola', 'Diapers'}), support=0.2, ordered_statistics=[OrderedStatistic(items_base=frozenset({'cola'}), items_add=frozenset({'Diapers'}), confidence=1.0, lift=1.25)]),\n",
       " RelationRecord(items=frozenset({'cola', 'Milk'}), support=0.2, ordered_statistics=[OrderedStatistic(items_base=frozenset({'cola'}), items_add=frozenset({'Milk'}), confidence=1.0, lift=1.25)]),\n",
       " RelationRecord(items=frozenset({'Diapers', 'Bread', 'Beer'}), support=0.4, ordered_statistics=[OrderedStatistic(items_base=frozenset({'Bread', 'Beer'}), items_add=frozenset({'Diapers'}), confidence=1.0, lift=1.25)]),\n",
       " RelationRecord(items=frozenset({'Eggs', 'Bread', 'Beer'}), support=0.2, ordered_statistics=[OrderedStatistic(items_base=frozenset({'Eggs'}), items_add=frozenset({'Bread', 'Beer'}), confidence=1.0, lift=2.5), OrderedStatistic(items_base=frozenset({'Eggs', 'Beer'}), items_add=frozenset({'Bread'}), confidence=1.0, lift=1.25), OrderedStatistic(items_base=frozenset({'Eggs', 'Bread'}), items_add=frozenset({'Beer'}), confidence=1.0, lift=1.6666666666666667)]),\n",
       " RelationRecord(items=frozenset({'Diapers', 'Beer', 'Cola'}), support=0.2, ordered_statistics=[OrderedStatistic(items_base=frozenset({'Cola'}), items_add=frozenset({'Diapers', 'Beer'}), confidence=1.0, lift=1.6666666666666667), OrderedStatistic(items_base=frozenset({'Beer', 'Cola'}), items_add=frozenset({'Diapers'}), confidence=1.0, lift=1.25), OrderedStatistic(items_base=frozenset({'Diapers', 'Cola'}), items_add=frozenset({'Beer'}), confidence=1.0, lift=1.6666666666666667)]),\n",
       " RelationRecord(items=frozenset({'Milk', 'Beer', 'Cola'}), support=0.2, ordered_statistics=[OrderedStatistic(items_base=frozenset({'Cola'}), items_add=frozenset({'Beer', 'Milk'}), confidence=1.0, lift=2.5), OrderedStatistic(items_base=frozenset({'Beer', 'Cola'}), items_add=frozenset({'Milk'}), confidence=1.0, lift=1.25), OrderedStatistic(items_base=frozenset({'Milk', 'Cola'}), items_add=frozenset({'Beer'}), confidence=1.0, lift=1.6666666666666667)]),\n",
       " RelationRecord(items=frozenset({'Eggs', 'Diapers', 'Beer'}), support=0.2, ordered_statistics=[OrderedStatistic(items_base=frozenset({'Eggs'}), items_add=frozenset({'Diapers', 'Beer'}), confidence=1.0, lift=1.6666666666666667), OrderedStatistic(items_base=frozenset({'Eggs', 'Beer'}), items_add=frozenset({'Diapers'}), confidence=1.0, lift=1.25), OrderedStatistic(items_base=frozenset({'Eggs', 'Diapers'}), items_add=frozenset({'Beer'}), confidence=1.0, lift=1.6666666666666667)]),\n",
       " RelationRecord(items=frozenset({'Milk', 'Diapers', 'Beer'}), support=0.4, ordered_statistics=[OrderedStatistic(items_base=frozenset({'Milk', 'Beer'}), items_add=frozenset({'Diapers'}), confidence=1.0, lift=1.25)]),\n",
       " RelationRecord(items=frozenset({'Eggs', 'Diapers', 'Bread'}), support=0.2, ordered_statistics=[OrderedStatistic(items_base=frozenset({'Eggs'}), items_add=frozenset({'Diapers', 'Bread'}), confidence=1.0, lift=1.6666666666666667), OrderedStatistic(items_base=frozenset({'Eggs', 'Bread'}), items_add=frozenset({'Diapers'}), confidence=1.0, lift=1.25), OrderedStatistic(items_base=frozenset({'Eggs', 'Diapers'}), items_add=frozenset({'Bread'}), confidence=1.0, lift=1.25)]),\n",
       " RelationRecord(items=frozenset({'cola', 'Diapers', 'Bread'}), support=0.2, ordered_statistics=[OrderedStatistic(items_base=frozenset({'cola'}), items_add=frozenset({'Diapers', 'Bread'}), confidence=1.0, lift=1.6666666666666667), OrderedStatistic(items_base=frozenset({'cola', 'Bread'}), items_add=frozenset({'Diapers'}), confidence=1.0, lift=1.25), OrderedStatistic(items_base=frozenset({'cola', 'Diapers'}), items_add=frozenset({'Bread'}), confidence=1.0, lift=1.25)]),\n",
       " RelationRecord(items=frozenset({'cola', 'Bread', 'Milk'}), support=0.2, ordered_statistics=[OrderedStatistic(items_base=frozenset({'cola'}), items_add=frozenset({'Bread', 'Milk'}), confidence=1.0, lift=1.6666666666666667), OrderedStatistic(items_base=frozenset({'cola', 'Bread'}), items_add=frozenset({'Milk'}), confidence=1.0, lift=1.25), OrderedStatistic(items_base=frozenset({'cola', 'Milk'}), items_add=frozenset({'Bread'}), confidence=1.0, lift=1.25)]),\n",
       " RelationRecord(items=frozenset({'Diapers', 'Milk', 'Cola'}), support=0.2, ordered_statistics=[OrderedStatistic(items_base=frozenset({'Cola'}), items_add=frozenset({'Diapers', 'Milk'}), confidence=1.0, lift=1.6666666666666667), OrderedStatistic(items_base=frozenset({'Diapers', 'Cola'}), items_add=frozenset({'Milk'}), confidence=1.0, lift=1.25), OrderedStatistic(items_base=frozenset({'Milk', 'Cola'}), items_add=frozenset({'Diapers'}), confidence=1.0, lift=1.25)]),\n",
       " RelationRecord(items=frozenset({'cola', 'Diapers', 'Milk'}), support=0.2, ordered_statistics=[OrderedStatistic(items_base=frozenset({'cola'}), items_add=frozenset({'Diapers', 'Milk'}), confidence=1.0, lift=1.6666666666666667), OrderedStatistic(items_base=frozenset({'cola', 'Diapers'}), items_add=frozenset({'Milk'}), confidence=1.0, lift=1.25), OrderedStatistic(items_base=frozenset({'cola', 'Milk'}), items_add=frozenset({'Diapers'}), confidence=1.0, lift=1.25)]),\n",
       " RelationRecord(items=frozenset({'Eggs', 'Diapers', 'Bread', 'Beer'}), support=0.2, ordered_statistics=[OrderedStatistic(items_base=frozenset({'Eggs'}), items_add=frozenset({'Diapers', 'Bread', 'Beer'}), confidence=1.0, lift=2.5), OrderedStatistic(items_base=frozenset({'Eggs', 'Beer'}), items_add=frozenset({'Diapers', 'Bread'}), confidence=1.0, lift=1.6666666666666667), OrderedStatistic(items_base=frozenset({'Eggs', 'Bread'}), items_add=frozenset({'Diapers', 'Beer'}), confidence=1.0, lift=1.6666666666666667), OrderedStatistic(items_base=frozenset({'Eggs', 'Diapers'}), items_add=frozenset({'Bread', 'Beer'}), confidence=1.0, lift=2.5), OrderedStatistic(items_base=frozenset({'Eggs', 'Bread', 'Beer'}), items_add=frozenset({'Diapers'}), confidence=1.0, lift=1.25), OrderedStatistic(items_base=frozenset({'Eggs', 'Diapers', 'Beer'}), items_add=frozenset({'Bread'}), confidence=1.0, lift=1.25), OrderedStatistic(items_base=frozenset({'Eggs', 'Diapers', 'Bread'}), items_add=frozenset({'Beer'}), confidence=1.0, lift=1.6666666666666667)]),\n",
       " RelationRecord(items=frozenset({'Milk', 'Diapers', 'Bread', 'Beer'}), support=0.2, ordered_statistics=[OrderedStatistic(items_base=frozenset({'Milk', 'Bread', 'Beer'}), items_add=frozenset({'Diapers'}), confidence=1.0, lift=1.25)]),\n",
       " RelationRecord(items=frozenset({'Milk', 'Diapers', 'Beer', 'Cola'}), support=0.2, ordered_statistics=[OrderedStatistic(items_base=frozenset({'Cola'}), items_add=frozenset({'Beer', 'Diapers', 'Milk'}), confidence=1.0, lift=2.5), OrderedStatistic(items_base=frozenset({'Beer', 'Cola'}), items_add=frozenset({'Diapers', 'Milk'}), confidence=1.0, lift=1.6666666666666667), OrderedStatistic(items_base=frozenset({'Diapers', 'Cola'}), items_add=frozenset({'Beer', 'Milk'}), confidence=1.0, lift=2.5), OrderedStatistic(items_base=frozenset({'Milk', 'Cola'}), items_add=frozenset({'Diapers', 'Beer'}), confidence=1.0, lift=1.6666666666666667), OrderedStatistic(items_base=frozenset({'Diapers', 'Beer', 'Cola'}), items_add=frozenset({'Milk'}), confidence=1.0, lift=1.25), OrderedStatistic(items_base=frozenset({'Milk', 'Beer', 'Cola'}), items_add=frozenset({'Diapers'}), confidence=1.0, lift=1.25), OrderedStatistic(items_base=frozenset({'Diapers', 'Milk', 'Cola'}), items_add=frozenset({'Beer'}), confidence=1.0, lift=1.6666666666666667)]),\n",
       " RelationRecord(items=frozenset({'cola', 'Diapers', 'Bread', 'Milk'}), support=0.2, ordered_statistics=[OrderedStatistic(items_base=frozenset({'cola'}), items_add=frozenset({'Diapers', 'Bread', 'Milk'}), confidence=1.0, lift=2.5), OrderedStatistic(items_base=frozenset({'cola', 'Bread'}), items_add=frozenset({'Diapers', 'Milk'}), confidence=1.0, lift=1.6666666666666667), OrderedStatistic(items_base=frozenset({'cola', 'Diapers'}), items_add=frozenset({'Bread', 'Milk'}), confidence=1.0, lift=1.6666666666666667), OrderedStatistic(items_base=frozenset({'cola', 'Milk'}), items_add=frozenset({'Diapers', 'Bread'}), confidence=1.0, lift=1.6666666666666667), OrderedStatistic(items_base=frozenset({'cola', 'Diapers', 'Bread'}), items_add=frozenset({'Milk'}), confidence=1.0, lift=1.25), OrderedStatistic(items_base=frozenset({'cola', 'Bread', 'Milk'}), items_add=frozenset({'Diapers'}), confidence=1.0, lift=1.25), OrderedStatistic(items_base=frozenset({'cola', 'Diapers', 'Milk'}), items_add=frozenset({'Bread'}), confidence=1.0, lift=1.25)])]"
      ]
     },
     "execution_count": 20,
     "metadata": {},
     "output_type": "execute_result"
    }
   ],
   "source": [
    "association_result"
   ]
  }
 ],
 "metadata": {
  "kernelspec": {
   "display_name": "Python 3 (ipykernel)",
   "language": "python",
   "name": "python3"
  },
  "language_info": {
   "codemirror_mode": {
    "name": "ipython",
    "version": 3
   },
   "file_extension": ".py",
   "mimetype": "text/x-python",
   "name": "python",
   "nbconvert_exporter": "python",
   "pygments_lexer": "ipython3",
   "version": "3.9.13"
  }
 },
 "nbformat": 4,
 "nbformat_minor": 5
}
