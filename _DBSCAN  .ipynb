{
 "cells": [
  {
   "cell_type": "markdown",
   "id": "31a1049a",
   "metadata": {},
   "source": [
    "# importing the libraries\n"
   ]
  },
  {
   "cell_type": "code",
   "execution_count": 6,
   "id": "2d6db0ee",
   "metadata": {},
   "outputs": [],
   "source": [
    "import numpy as np\n",
    "import matplotlib.pyplot as plt\n",
    "from sklearn.cluster import DBSCAN\n",
    "from scipy.spatial.distance import cdist"
   ]
  },
  {
   "cell_type": "markdown",
   "id": "ecc68466",
   "metadata": {},
   "source": [
    "# Define the dataset:"
   ]
  },
  {
   "cell_type": "code",
   "execution_count": 7,
   "id": "18f20c46",
   "metadata": {},
   "outputs": [],
   "source": [
    "X = np.array([[5, 7], [8, 4], [3, 3], [4, 4], [3, 7], [6, 7], [6, 1], [5, 5]])\n"
   ]
  },
  {
   "cell_type": "markdown",
   "id": "d48e6c27",
   "metadata": {},
   "source": [
    "# calculate the distance matric "
   ]
  },
  {
   "cell_type": "code",
   "execution_count": 8,
   "id": "e59bd53d",
   "metadata": {},
   "outputs": [],
   "source": [
    "dist_matrix = cdist(X, X, metric='euclidean')"
   ]
  },
  {
   "cell_type": "code",
   "execution_count": 9,
   "id": "cf7debb2",
   "metadata": {},
   "outputs": [
    {
     "data": {
      "text/plain": [
       "array([[0.        , 4.24264069, 4.47213595, 3.16227766, 2.        ,\n",
       "        1.        , 6.08276253, 2.        ],\n",
       "       [4.24264069, 0.        , 5.09901951, 4.        , 5.83095189,\n",
       "        3.60555128, 3.60555128, 3.16227766],\n",
       "       [4.47213595, 5.09901951, 0.        , 1.41421356, 4.        ,\n",
       "        5.        , 3.60555128, 2.82842712],\n",
       "       [3.16227766, 4.        , 1.41421356, 0.        , 3.16227766,\n",
       "        3.60555128, 3.60555128, 1.41421356],\n",
       "       [2.        , 5.83095189, 4.        , 3.16227766, 0.        ,\n",
       "        3.        , 6.70820393, 2.82842712],\n",
       "       [1.        , 3.60555128, 5.        , 3.60555128, 3.        ,\n",
       "        0.        , 6.        , 2.23606798],\n",
       "       [6.08276253, 3.60555128, 3.60555128, 3.60555128, 6.70820393,\n",
       "        6.        , 0.        , 4.12310563],\n",
       "       [2.        , 3.16227766, 2.82842712, 1.41421356, 2.82842712,\n",
       "        2.23606798, 4.12310563, 0.        ]])"
      ]
     },
     "execution_count": 9,
     "metadata": {},
     "output_type": "execute_result"
    }
   ],
   "source": [
    "dist_matrix"
   ]
  },
  {
   "cell_type": "markdown",
   "id": "24437959",
   "metadata": {},
   "source": [
    "# Apply DBSCAN clustering:"
   ]
  },
  {
   "cell_type": "code",
   "execution_count": 3,
   "id": "d0958e92",
   "metadata": {},
   "outputs": [],
   "source": [
    "eps = 3.5\n",
    "min_samples = 3\n",
    "dbscan = DBSCAN(eps=eps, min_samples=min_samples, metric='euclidean')\n",
    "labels = dbscan.fit_predict(X)\n"
   ]
  },
  {
   "cell_type": "markdown",
   "id": "7e5dcbab",
   "metadata": {},
   "source": [
    "# Separate core, border, and noise points:"
   ]
  },
  {
   "cell_type": "code",
   "execution_count": 11,
   "id": "8104e8a2",
   "metadata": {},
   "outputs": [],
   "source": [
    "core_samples_mask = np.zeros_like(labels, dtype=bool)\n",
    "core_samples_mask[dbscan.core_sample_indices_] = True\n",
    "\n",
    "core_points = X[core_samples_mask]\n",
    "border_points = X[np.logical_and(~core_samples_mask, labels != -1)]\n",
    "noise_points = X[labels == -1]"
   ]
  },
  {
   "cell_type": "markdown",
   "id": "c3b412a0",
   "metadata": {},
   "source": [
    "# Print the core points for each data point:"
   ]
  },
  {
   "cell_type": "code",
   "execution_count": 12,
   "id": "c03de04e",
   "metadata": {},
   "outputs": [
    {
     "name": "stdout",
     "output_type": "stream",
     "text": [
      "Core Points:\n",
      "Data Point\tCore Points\n",
      "S1\t\tS1\n",
      "S2\t\t\n",
      "S3\t\tS2\n",
      "S4\t\tS3\n",
      "S5\t\tS4\n",
      "S6\t\tS5\n",
      "S7\t\t\n",
      "S8\t\tS6\n",
      "\n"
     ]
    }
   ],
   "source": [
    "print(\"Core Points:\")\n",
    "print(\"Data Point\\tCore Points\")\n",
    "for i, x in enumerate(X):\n",
    "    core_labels = [j for j, core in enumerate(core_points) if np.array_equal(core, x)]\n",
    "    core_labels_str = ', '.join([f'S{j+1}' for j in core_labels])\n",
    "    print(f'S{i+1}\\t\\t{core_labels_str}')\n",
    "print()\n"
   ]
  },
  {
   "cell_type": "markdown",
   "id": "05e6b1d8",
   "metadata": {},
   "source": [
    "# Plot the clusters:"
   ]
  },
  {
   "cell_type": "code",
   "execution_count": 13,
   "id": "6bdf11a7",
   "metadata": {},
   "outputs": [
    {
     "data": {
      "image/png": "[encoded data removed]",
      "text/plain": [
       "<Figure size 800x600 with 1 Axes>"
      ]
     },
     "metadata": {},
     "output_type": "display_data"
    }
   ],
   "source": [
    "plt.figure(figsize=(8, 6))\n",
    "colors = ['blue', 'red', 'green', 'purple']\n",
    "markers = ['o', 's', '^']\n",
    "for label in set(labels):\n",
    "    if label == -1:\n",
    "        plt.scatter(noise_points[:, 0], noise_points[:, 1], color='gray', marker='x', label='Noise')\n",
    "    elif label == 0:\n",
    "        plt.scatter(core_points[:, 0], core_points[:, 1], color=colors[label], marker=markers[0],\n",
    "                    label=f'Cluster {label}')\n",
    "    else:\n",
    "        cluster_points = X[labels == label]\n",
    "        plt.scatter(cluster_points[:, 0], cluster_points[:, 1], color=colors[label % len(colors)],\n",
    "                    marker=markers[label % len(markers)], label=f'Cluster {label}')\n",
    "\n",
    "if len(border_points) > 0:\n",
    "    plt.scatter(border_points[:, 0], border_points[:, 1], color='yellow', marker='o', edgecolors='black',\n",
    "                linewidths=1, label='Border')\n",
    "\n",
    "plt.xlabel('X')\n",
    "plt.ylabel('Y')\n",
    "plt.title('DBSCAN Clustering')\n",
    "plt.legend()\n",
    "plt.show()\n"
   ]
  },
  {
   "cell_type": "code",
   "execution_count": null,
   "id": "1dd0ebf6",
   "metadata": {},
   "outputs": [],
   "source": []
  }
 ],
 "metadata": {
  "kernelspec": {
   "display_name": "Python 3 (ipykernel)",
   "language": "python",
   "name": "python3"
  },
  "language_info": {
   "codemirror_mode": {
    "name": "ipython",
    "version": 3
   },
   "file_extension": ".py",
   "mimetype": "text/x-python",
   "name": "python",
   "nbconvert_exporter": "python",
   "pygments_lexer": "ipython3",
   "version": "3.9.13"
  }
 },
 "nbformat": 4,
 "nbformat_minor": 5
}
